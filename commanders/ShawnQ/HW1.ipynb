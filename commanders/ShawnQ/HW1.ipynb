{
  "nbformat": 4,
  "nbformat_minor": 0,
  "metadata": {
    "colab": {
      "provenance": []
    },
    "kernelspec": {
      "name": "python3",
      "display_name": "Python 3"
    },
    "language_info": {
      "name": "python"
    }
  },
  "cells": [
    {
      "cell_type": "code",
      "source": [
        "pip install faiss-cpu"
      ],
      "metadata": {
        "id": "-3kRN1B2GHcA",
        "colab": {
          "base_uri": "https://localhost:8080/"
        },
        "outputId": "910b43d7-6286-4df8-e75f-f30c621f2359"
      },
      "execution_count": 2,
      "outputs": [
        {
          "output_type": "stream",
          "name": "stdout",
          "text": [
            "Requirement already satisfied: faiss-cpu in /usr/local/lib/python3.11/dist-packages (1.10.0)\n",
            "Requirement already satisfied: numpy<3.0,>=1.25.0 in /usr/local/lib/python3.11/dist-packages (from faiss-cpu) (2.0.2)\n",
            "Requirement already satisfied: packaging in /usr/local/lib/python3.11/dist-packages (from faiss-cpu) (24.2)\n"
          ]
        }
      ]
    },
    {
      "cell_type": "code",
      "source": [
        "import numpy as np\n",
        "import faiss\n",
        "import time"
      ],
      "metadata": {
        "id": "7wfrn2waDbUR"
      },
      "execution_count": 3,
      "outputs": []
    },
    {
      "cell_type": "code",
      "execution_count": 4,
      "metadata": {
        "id": "ZvcuBs6o2vqd"
      },
      "outputs": [],
      "source": [
        "# Generate 1 million vectors, each vector has 1000 dimensions\n",
        "dimension = 1000\n",
        "n_vectors = 1000000\n",
        "xb = np.random.random((n_vectors, dimension)).astype('float32')\n",
        "\n",
        "# Generate the query vectors\n",
        "xq = np.random.random((10, dimension)).astype('float32')"
      ]
    },
    {
      "cell_type": "code",
      "source": [
        "## ANN search based on IndexIVFFlat\n",
        "start = time.time()\n",
        "quantizer = faiss.IndexFlatL2(dimension) ## similarity measurement during K-means\n",
        "index_ivf = faiss.IndexIVFFlat(quantizer, dimension, 100) # You regard this as K-means parameters: similarity meansurement, vector's dimension, cluster group count\n",
        "index_ivf.train(xb)\n",
        "index_ivf.add(xb)\n",
        "index_ivf.nprobe = 10 # During query, how many closest cluster will be used to search KNN\n",
        "print(\"IVF Flat train time:\", time.time() - start, \"seconds\")\n"
      ],
      "metadata": {
        "id": "wjErUj-o2yZK",
        "colab": {
          "base_uri": "https://localhost:8080/"
        },
        "outputId": "c84ae9b4-e054-41c8-baa5-483668ffe822"
      },
      "execution_count": 5,
      "outputs": [
        {
          "output_type": "stream",
          "name": "stdout",
          "text": [
            "IVF Flat train time: 17.957215309143066 seconds\n"
          ]
        }
      ]
    },
    {
      "cell_type": "code",
      "source": [
        "# IVF search\n",
        "startIVFquery = time.time()\n",
        "D2, I2 = index_ivf.search(xq, 5)\n",
        "print(\"Time (IVF):\", time.time() - startIVFquery, \"seconds\")\n",
        "avgNearestDistance = np.mean(D2[:, 0])\n",
        "print(\"IVF query average similarity:\", avgNearestDistance)"
      ],
      "metadata": {
        "colab": {
          "base_uri": "https://localhost:8080/"
        },
        "id": "1miKbiWdOQxn",
        "outputId": "7146d640-c5b3-49b8-c62f-f1f4d2dfb345"
      },
      "execution_count": 6,
      "outputs": [
        {
          "output_type": "stream",
          "name": "stdout",
          "text": [
            "Time (IVF): 0.8736310005187988 seconds\n",
            "IVF query average similarity: 140.00546\n"
          ]
        }
      ]
    },
    {
      "cell_type": "code",
      "source": [
        "# FlatL2 Index\n",
        "startL2Index = time.time()\n",
        "index_flatL2 = faiss.IndexFlatL2(dimension)\n",
        "index_flatL2.add(xb)\n",
        "print(\"FlatL2 index time:\", time.time() - startL2Index, \"seconds\")"
      ],
      "metadata": {
        "colab": {
          "base_uri": "https://localhost:8080/"
        },
        "id": "epX8picUdNvn",
        "outputId": "5004e9b8-bfb5-4c57-8c28-6ac586a04079"
      },
      "execution_count": 4,
      "outputs": [
        {
          "output_type": "stream",
          "name": "stdout",
          "text": [
            "FlatL2 index time: 3.560131788253784 seconds\n"
          ]
        }
      ]
    },
    {
      "cell_type": "code",
      "source": [
        "# FlatL2 query\n",
        "startL2Query = time.time()\n",
        "D,I = index_flatL2.search(xq, k=10)\n",
        "print(\"FlatL2 query time:\", time.time() - startL2Query, \"seconds\")\n",
        "avgNearestDistance = np.mean(D[:, 0])\n",
        "print(\"FlatL2 query average similarity:\", avgNearestDistance)"
      ],
      "metadata": {
        "id": "70gcNMMPOQ9g",
        "colab": {
          "base_uri": "https://localhost:8080/"
        },
        "outputId": "01b344c4-0b01-44e6-8f46-e3b09cfe3a9c"
      },
      "execution_count": 5,
      "outputs": [
        {
          "output_type": "stream",
          "name": "stdout",
          "text": [
            "FlatL2 query time: 5.048878192901611 seconds\n",
            "FlatL2 query average similarity: 140.28873\n"
          ]
        }
      ]
    }
  ]
}