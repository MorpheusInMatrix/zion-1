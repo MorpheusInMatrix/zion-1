{
  "nbformat": 4,
  "nbformat_minor": 0,
  "metadata": {
    "colab": {
      "provenance": []
    },
    "kernelspec": {
      "name": "python3",
      "display_name": "Python 3"
    },
    "language_info": {
      "name": "python"
    }
  },
  "cells": [
    {
      "cell_type": "code",
      "source": [
        "import numpy as np\n",
        "import faiss\n",
        "import time"
      ],
      "metadata": {
        "id": "WpkqMPCqr3KE"
      },
      "execution_count": null,
      "outputs": []
    },
    {
      "cell_type": "code",
      "execution_count": null,
      "metadata": {
        "colab": {
          "base_uri": "https://localhost:8080/"
        },
        "id": "ZA8C3ZVwrj3J",
        "outputId": "1e7bab37-e23c-496a-e2e4-43cdf502e8e5"
      },
      "outputs": [
        {
          "output_type": "stream",
          "name": "stdout",
          "text": [
            "Collecting faiss-cpu\n",
            "  Downloading faiss_cpu-1.10.0-cp311-cp311-manylinux_2_28_x86_64.whl.metadata (4.4 kB)\n",
            "Requirement already satisfied: numpy<3.0,>=1.25.0 in /usr/local/lib/python3.11/dist-packages (from faiss-cpu) (2.0.2)\n",
            "Requirement already satisfied: packaging in /usr/local/lib/python3.11/dist-packages (from faiss-cpu) (24.2)\n",
            "Downloading faiss_cpu-1.10.0-cp311-cp311-manylinux_2_28_x86_64.whl (30.7 MB)\n",
            "\u001b[2K   \u001b[90m━━━━━━━━━━━━━━━━━━━━━━━━━━━━━━━━━━━━━━━━\u001b[0m \u001b[32m30.7/30.7 MB\u001b[0m \u001b[31m43.1 MB/s\u001b[0m eta \u001b[36m0:00:00\u001b[0m\n",
            "\u001b[?25hInstalling collected packages: faiss-cpu\n",
            "Successfully installed faiss-cpu-1.10.0\n"
          ]
        }
      ],
      "source": [
        "pip install faiss-cpu"
      ]
    },
    {
      "cell_type": "code",
      "source": [
        "dimension = 1000\n",
        "n_vectors = 1_000_000\n",
        "\n",
        "xb = np.random.rand(n_vectors, dimension).astype(np.float32)\n",
        "xq = np.random.random((1, dimension)).astype('float32')\n",
        "\n",
        "num = 10\n",
        "num_probes = 10 # Number of clusters to search (nprobe)\n",
        "num_clusters = 100      # Number of clusters (nlist)"
      ],
      "metadata": {
        "id": "uhvOMYeBr6_l"
      },
      "execution_count": null,
      "outputs": []
    },
    {
      "cell_type": "code",
      "source": [
        "start = time.time()\n",
        "index = faiss.IndexFlatL2(dimension)\n",
        "index.add(xb)\n",
        "distance, indices = index.search(xq, num)\n",
        "print(\"Flat time\", time.time() - start, \"seconds\")\n",
        "print(indices)\n",
        "print(distance)"
      ],
      "metadata": {
        "colab": {
          "base_uri": "https://localhost:8080/"
        },
        "id": "94I2GjJs3eE6",
        "outputId": "6d5f38ef-228d-4a35-b08e-b6684baf0eb7"
      },
      "execution_count": null,
      "outputs": [
        {
          "output_type": "stream",
          "name": "stdout",
          "text": [
            "Flat time 3.5868051052093506 seconds\n",
            "[[ 74903 623741 355874 496542 594390 583780 898214 143157 145281 863090]]\n",
            "[[142.40175 143.40985 144.84917 145.73602 145.8465  146.0144  146.0737\n",
            "  146.68234 147.02866 147.03342]]\n"
          ]
        }
      ]
    },
    {
      "cell_type": "code",
      "source": [
        "start = time.time()\n",
        "quantizer = faiss.IndexFlatL2(dimension)\n",
        "index_ivf = faiss.IndexIVFFlat(quantizer, dimension, num_clusters)\n",
        "index_ivf.train(xb)\n",
        "index_ivf.add(xb)\n",
        "index_ivf.nprobe = 10\n",
        "print(\"IVF Flat train time:\", time.time() - start, \"seconds\")\n",
        "\n"
      ],
      "metadata": {
        "colab": {
          "base_uri": "https://localhost:8080/"
        },
        "id": "EoIZzHOk5nMA",
        "outputId": "e9343e67-c39a-4fe6-8187-ee7af5f7d1ed"
      },
      "execution_count": null,
      "outputs": [
        {
          "output_type": "stream",
          "name": "stdout",
          "text": [
            "IVF Flat train time: 12.910876512527466 seconds\n"
          ]
        }
      ]
    },
    {
      "cell_type": "code",
      "source": [
        "start = time.time()\n",
        "D2, I2 = index_ivf.search(xq, num)\n",
        "print(\"Time (IVF):\", time.time() - start, \"seconds\")\n",
        "print(I2)\n",
        "print(D2)"
      ],
      "metadata": {
        "colab": {
          "base_uri": "https://localhost:8080/"
        },
        "id": "js3bGoRv7JfQ",
        "outputId": "6134df9c-0b00-4aab-a8fa-fa740299c0db"
      },
      "execution_count": null,
      "outputs": [
        {
          "output_type": "stream",
          "name": "stdout",
          "text": [
            "Time (IVF): 0.13865089416503906 seconds\n",
            "[[748496 587485 573313 460671 551935 456569 662184 129307 238214 702913]]\n",
            "[[140.8365  141.06778 142.87306 143.0926  144.16983 144.46147 145.1582\n",
            "  145.42297 145.5747  145.78168]]\n"
          ]
        }
      ]
    }
  ]
}