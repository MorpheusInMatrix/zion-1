{
  "nbformat": 4,
  "nbformat_minor": 0,
  "metadata": {
    "colab": {
      "provenance": []
    },
    "kernelspec": {
      "name": "python3",
      "display_name": "Python 3"
    },
    "language_info": {
      "name": "python"
    }
  },
  "cells": [
    {
      "cell_type": "code",
      "source": [
        "pip install faiss-cpu"
      ],
      "metadata": {
        "id": "-3kRN1B2GHcA",
        "colab": {
          "base_uri": "https://localhost:8080/"
        },
        "outputId": "6e7e86df-4957-4718-e295-217262323768"
      },
      "execution_count": 1,
      "outputs": [
        {
          "output_type": "stream",
          "name": "stdout",
          "text": [
            "Requirement already satisfied: faiss-cpu in /usr/local/lib/python3.11/dist-packages (1.10.0)\n",
            "Requirement already satisfied: numpy<3.0,>=1.25.0 in /usr/local/lib/python3.11/dist-packages (from faiss-cpu) (2.0.2)\n",
            "Requirement already satisfied: packaging in /usr/local/lib/python3.11/dist-packages (from faiss-cpu) (24.2)\n"
          ]
        }
      ]
    },
    {
      "cell_type": "code",
      "source": [
        "import numpy as np\n",
        "import faiss\n",
        "import time"
      ],
      "metadata": {
        "id": "7wfrn2waDbUR"
      },
      "execution_count": 3,
      "outputs": []
    },
    {
      "cell_type": "code",
      "execution_count": 4,
      "metadata": {
        "id": "ZvcuBs6o2vqd"
      },
      "outputs": [],
      "source": [
        "# Generate 1 million vectors, each vector has 1000 dimensions\n",
        "dimension = 1000\n",
        "n_vectors = 1000000\n",
        "xb = np.random.random((n_vectors, dimension)).astype('float32')\n",
        "\n",
        "# Generate the query vectors\n",
        "xq = np.random.random((10, dimension)).astype('float32')"
      ]
    },
    {
      "cell_type": "code",
      "source": [
        "## ANN search based on IndexIVFFlat\n",
        "start = time.time()\n",
        "quantizer = faiss.IndexFlatL2(dimension) ## similarity measurement during K-means\n",
        "index_ivf = faiss.IndexIVFFlat(quantizer, dimension, 100) # You regard this as K-means parameters: similarity meansurement, vector's dimension, cluster group count\n",
        "index_ivf.train(xb)\n",
        "index_ivf.add(xb)\n",
        "index_ivf.nprobe = 10 # During query, how many closest cluster will be used to search KNN\n",
        "print(\"IVF Flat train time:\", time.time() - start, \"seconds\")\n"
      ],
      "metadata": {
        "id": "wjErUj-o2yZK",
        "colab": {
          "base_uri": "https://localhost:8080/"
        },
        "outputId": "e41e90ec-4e6d-40bb-d1ae-64a254e920a8"
      },
      "execution_count": 7,
      "outputs": [
        {
          "output_type": "stream",
          "name": "stdout",
          "text": [
            "Time (IVF Flat): 10.883735656738281 seconds\n"
          ]
        }
      ]
    },
    {
      "cell_type": "code",
      "source": [
        "# IVF search\n",
        "start = time.time()\n",
        "D2, I2 = index_ivf.search(xq, 5)\n",
        "print(\"Time (IVF):\", time.time() - start, \"seconds\")"
      ],
      "metadata": {
        "colab": {
          "base_uri": "https://localhost:8080/"
        },
        "id": "1miKbiWdOQxn",
        "outputId": "474f3d1b-771e-452a-b690-f1fe7c116a54"
      },
      "execution_count": 8,
      "outputs": [
        {
          "output_type": "stream",
          "name": "stdout",
          "text": [
            "Time (IVF): 0.5268502235412598 seconds\n"
          ]
        }
      ]
    },
    {
      "cell_type": "code",
      "source": [],
      "metadata": {
        "id": "70gcNMMPOQ9g"
      },
      "execution_count": null,
      "outputs": []
    },
    {
      "cell_type": "code",
      "source": [],
      "metadata": {
        "id": "cLzhkx9fORAW"
      },
      "execution_count": null,
      "outputs": []
    },
    {
      "cell_type": "code",
      "source": [],
      "metadata": {
        "id": "H-7soIyAORCy"
      },
      "execution_count": null,
      "outputs": []
    }
  ]
}