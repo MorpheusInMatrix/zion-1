{
  "nbformat": 4,
  "nbformat_minor": 0,
  "metadata": {
    "colab": {
      "provenance": [],
      "gpuType": "T4"
    },
    "kernelspec": {
      "name": "python3",
      "display_name": "Python 3"
    },
    "language_info": {
      "name": "python"
    },
    "accelerator": "GPU"
  },
  "cells": [
    {
      "cell_type": "code",
      "source": [
        "pip install faiss-cpu"
      ],
      "metadata": {
        "id": "-3kRN1B2GHcA",
        "colab": {
          "base_uri": "https://localhost:8080/"
        },
        "outputId": "81abb81d-e88d-40f9-ec8a-c88712e876b4"
      },
      "execution_count": null,
      "outputs": [
        {
          "output_type": "stream",
          "name": "stdout",
          "text": [
            "Requirement already satisfied: faiss-cpu in /usr/local/lib/python3.11/dist-packages (1.11.0)\n",
            "Requirement already satisfied: numpy<3.0,>=1.25.0 in /usr/local/lib/python3.11/dist-packages (from faiss-cpu) (2.0.2)\n",
            "Requirement already satisfied: packaging in /usr/local/lib/python3.11/dist-packages (from faiss-cpu) (24.2)\n"
          ]
        }
      ]
    },
    {
      "cell_type": "code",
      "source": [
        "import numpy as np\n",
        "import faiss\n",
        "import time\n",
        "import gc"
      ],
      "metadata": {
        "id": "7wfrn2waDbUR"
      },
      "execution_count": null,
      "outputs": []
    },
    {
      "cell_type": "code",
      "execution_count": null,
      "metadata": {
        "id": "ZvcuBs6o2vqd"
      },
      "outputs": [],
      "source": [
        "dimension = 1000\n",
        "n_vectors = 1000000\n",
        "xb = np.random.random((n_vectors, dimension)).astype('float32')\n",
        "xq = np.random.random((10, dimension)).astype('float32')"
      ]
    },
    {
      "cell_type": "markdown",
      "source": [
        "Flat array search"
      ],
      "metadata": {
        "id": "jIPyViD_srGZ"
      }
    },
    {
      "cell_type": "code",
      "source": [
        "start = time.time()\n",
        "flat_index = faiss.IndexFlatL2(dimension)\n",
        "flat_index.add(xb)\n",
        "print(\"time is \",time.time()-start,\"seconds\")"
      ],
      "metadata": {
        "id": "70gcNMMPOQ9g",
        "colab": {
          "base_uri": "https://localhost:8080/"
        },
        "outputId": "f0430536-98b7-4dd4-fd0b-70ca9d9f4563"
      },
      "execution_count": null,
      "outputs": [
        {
          "output_type": "stream",
          "name": "stdout",
          "text": [
            "time is  3.8793187141418457 seconds\n"
          ]
        }
      ]
    },
    {
      "cell_type": "code",
      "source": [
        "start = time.time()\n",
        "distances, indices = flat_index.search(xq, 5)\n",
        "print(\"time is \",time.time()-start,\"seconds\")\n",
        "print(\"distances \",distances)\n",
        "print(\"indices \",indices)"
      ],
      "metadata": {
        "id": "cLzhkx9fORAW",
        "colab": {
          "base_uri": "https://localhost:8080/"
        },
        "outputId": "c4cbd0a3-52db-4cdc-964f-eee8deee54fa"
      },
      "execution_count": null,
      "outputs": [
        {
          "output_type": "stream",
          "name": "stdout",
          "text": [
            "time is  3.828599691390991 seconds\n",
            "distances  [[140.45319 140.88046 140.99254 141.2656  141.84497]\n",
            " [138.96826 139.5283  140.12866 140.74976 141.58244]\n",
            " [139.9488  139.9679  140.41019 140.86226 141.12714]\n",
            " [141.74536 141.9487  142.21146 142.95471 143.02533]\n",
            " [139.4109  140.64973 141.67291 141.78806 141.99573]\n",
            " [140.49    141.66821 141.92914 142.1541  142.26938]\n",
            " [137.61118 138.09189 139.11163 139.11267 139.32349]\n",
            " [137.46533 137.51218 138.68909 140.07156 140.672  ]\n",
            " [138.54924 140.87851 141.37926 141.65752 142.4866 ]\n",
            " [139.19962 139.29083 139.29547 139.40839 139.50372]]\n",
            "indices  [[514292 207285  29494 969708 693720]\n",
            " [931011 233343 572082 523288 892400]\n",
            " [647430 805912 116585 954401 508980]\n",
            " [867616 645006 170386 250089 369179]\n",
            " [996223 524708 709859 204664 695563]\n",
            " [680728 450741 842199 167990 151768]\n",
            " [267993 765016 488349 131836 378367]\n",
            " [318995 358876 799134 979827 273196]\n",
            " [490156 717047  49102 361679 441425]\n",
            " [782071 132964 921189 884662 950344]]\n"
          ]
        }
      ]
    },
    {
      "cell_type": "code",
      "source": [
        "del flat_index\n",
        "gc.collect()"
      ],
      "metadata": {
        "colab": {
          "base_uri": "https://localhost:8080/"
        },
        "id": "rDagl2pcrWu-",
        "outputId": "ec17abd9-31a0-4893-f348-c12430a07172"
      },
      "execution_count": null,
      "outputs": [
        {
          "output_type": "execute_result",
          "data": {
            "text/plain": [
              "0"
            ]
          },
          "metadata": {},
          "execution_count": 6
        }
      ]
    },
    {
      "cell_type": "markdown",
      "source": [
        "Clustering"
      ],
      "metadata": {
        "id": "ST7Q_EcVmqyl"
      }
    },
    {
      "cell_type": "code",
      "source": [
        "start = time.time()\n",
        "quantizer = faiss.IndexFlatL2(dimension)\n",
        "clus_index = faiss.IndexIVFFlat(quantizer, dimension, 100)\n",
        "clus_index.train(xb)\n",
        "clus_index.add(xb)\n",
        "print(\"time is \",time.time()-start,\"seconds\")"
      ],
      "metadata": {
        "id": "H-7soIyAORCy",
        "colab": {
          "base_uri": "https://localhost:8080/"
        },
        "outputId": "b3e800f2-29cb-4a92-8d28-a81b39e856b1"
      },
      "execution_count": null,
      "outputs": [
        {
          "output_type": "stream",
          "name": "stdout",
          "text": [
            "time is  13.879900693893433 seconds\n"
          ]
        }
      ]
    },
    {
      "cell_type": "code",
      "source": [
        "start = time.time()\n",
        "distances,indices = clus_index.search(xq,5)\n",
        "print(\"time is \",time.time()-start,\"seconds\")\n",
        "print(\"distances \",distances)\n",
        "print(\"indices \",indices)"
      ],
      "metadata": {
        "colab": {
          "base_uri": "https://localhost:8080/"
        },
        "id": "riowjwS8pJxO",
        "outputId": "86aeed72-aabd-4add-f91a-e9be75606840"
      },
      "execution_count": null,
      "outputs": [
        {
          "output_type": "stream",
          "name": "stdout",
          "text": [
            "time is  0.055008888244628906 seconds\n",
            "distances  [[140.45319 141.84497 143.06863 143.54189 143.86989]\n",
            " [140.74976 144.72743 145.04489 145.63687 146.23341]\n",
            " [142.69383 143.73917 144.06125 144.2284  145.1484 ]\n",
            " [143.22475 146.81027 147.07648 147.67958 147.91669]\n",
            " [145.1141  145.16516 145.59131 146.50858 146.69907]\n",
            " [142.98587 145.36359 145.49944 145.93494 146.42584]\n",
            " [140.14462 143.11426 143.61479 143.71814 144.43239]\n",
            " [141.45657 143.40704 143.44589 144.15422 144.85278]\n",
            " [138.54924 144.8486  145.66728 146.20683 146.63391]\n",
            " [140.74097 143.8489  144.51971 144.55945 145.18253]]\n",
            "indices  [[514292 693720 838447 959394 665093]\n",
            " [523288 674487  60571 708250 774946]\n",
            " [421876 673878  79628 910012 714804]\n",
            " [206824 595357 388238 734191 604226]\n",
            " [807293 953341   2306 836799 620001]\n",
            " [171951 316214 444496 685846 478084]\n",
            " [253579 226280 590968   9580  20988]\n",
            " [192680  44973 518234 858235 394240]\n",
            " [490156 554910  80939 411895 384455]\n",
            " [885010 908080 451946 314343 982594]]\n"
          ]
        }
      ]
    },
    {
      "cell_type": "code",
      "source": [],
      "metadata": {
        "id": "SZ9T8yGipPWu"
      },
      "execution_count": null,
      "outputs": []
    }
  ]
}